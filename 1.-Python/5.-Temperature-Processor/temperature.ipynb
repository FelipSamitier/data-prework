{
 "cells": [
  {
   "cell_type": "markdown",
   "metadata": {},
   "source": [
    "<img src=\"https://bit.ly/2VnXWr2\" width=\"100\" align=\"left\">"
   ]
  },
  {
   "cell_type": "markdown",
   "metadata": {},
   "source": [
    "# Temperature Sensor\n",
    "\n",
    "There is a temperature sensor in the processor of your company's server. The company wants to analyze the data provided by the sensor to decide if they should change the cooling system for a better one. As changing the cooling system is expensive and you are an excellent data analyst, you can't make a decision without basis.\n",
    "\n",
    "## Tools\n",
    "You don't necessarily need to use all the tools. Maybe you opt to use some of them or completely different ones, they are given to help you shape the exercise. Programming exercises can be solved in many different ways.\n",
    "1. Data structures: **lists**\n",
    "2. Loops: **list comprehension**\n",
    "3. Functions: **min, max, print, len**\n",
    "4. Conditional statements: **if-elif-else**\n",
    "\n",
    "## Tasks\n",
    "The temperatures measured throughout the 24 hours of a day are:"
   ]
  },
  {
   "cell_type": "code",
   "execution_count": 1,
   "metadata": {},
   "outputs": [
    {
     "name": "stdout",
     "output_type": "stream",
     "text": [
      "24\n"
     ]
    }
   ],
   "source": [
    "temperatures_C = [33, 66, 65, 0, 59, 60, 62, 64, 70, 76, 80, 81, 80, 83, 90, 79, 61, 53, 50, 49, 53, 48, 45, 39]\n",
    "print(len(temperatures_C))"
   ]
  },
  {
   "cell_type": "markdown",
   "metadata": {},
   "source": [
    "The first element of the list is the temperature at 12am, the second element is the temperature at 1am, and so on. \n",
    "\n",
    "The company has decided that if one of the following events occurs, then the cooling system needs to be replaced for a new one to avoid damaging the processor.\n",
    "* More than 4 temperatures are greater than or equal to 70ºC.\n",
    "* Any temperature is above 80ºC.\n",
    "* The average temperature exceeds 65ºC.\n",
    "\n",
    "Follow the steps so that you can make the decision.\n",
    "\n",
    "#### 1. Find the minimum temperature of the day and store it in a variable."
   ]
  },
  {
   "cell_type": "code",
   "execution_count": 3,
   "metadata": {},
   "outputs": [
    {
     "name": "stdout",
     "output_type": "stream",
     "text": [
      "0\n"
     ]
    }
   ],
   "source": [
    "min_temp = min(temperatures_C)\n",
    "print(min_temp)"
   ]
  },
  {
   "cell_type": "markdown",
   "metadata": {},
   "source": [
    "#### 2. Find the maximum temperature of the day and store it in a variable."
   ]
  },
  {
   "cell_type": "code",
   "execution_count": 4,
   "metadata": {},
   "outputs": [
    {
     "name": "stdout",
     "output_type": "stream",
     "text": [
      "90\n"
     ]
    }
   ],
   "source": [
    "max_temp = max(temperatures_C)\n",
    "print(max_temp)"
   ]
  },
  {
   "cell_type": "markdown",
   "metadata": {},
   "source": [
    "#### 3. Create a list with the temperatures that are greater than or equal to 70ºC. Store it in a variable."
   ]
  },
  {
   "cell_type": "code",
   "execution_count": 5,
   "metadata": {},
   "outputs": [
    {
     "name": "stdout",
     "output_type": "stream",
     "text": [
      "[70, 76, 80, 81, 80, 83, 90, 79]\n"
     ]
    }
   ],
   "source": [
    "temp_greater_70 = []\n",
    "\n",
    "for x in range(0,len(temperatures_C)):\n",
    "    if temperatures_C[x] >= 70:\n",
    "        temp_greater_70.append(temperatures_C[x])\n",
    "        \n",
    "print(temp_greater_70)"
   ]
  },
  {
   "cell_type": "markdown",
   "metadata": {},
   "source": [
    "#### 4. Find the average temperature of the day and store it in a variable."
   ]
  },
  {
   "cell_type": "code",
   "execution_count": 6,
   "metadata": {},
   "outputs": [
    {
     "name": "stdout",
     "output_type": "stream",
     "text": [
      "60.25\n"
     ]
    }
   ],
   "source": [
    "Avg_temp = sum(temperatures_C)/len(temperatures_C)\n",
    "print(Avg_temp)"
   ]
  },
  {
   "cell_type": "markdown",
   "metadata": {},
   "source": [
    "#### 5. Imagine that there was a sensor failure at 3am and the data for that specific hour was not recorded. How would you estimate the missing value? Replace the current value of the list at 3am for an estimation. "
   ]
  },
  {
   "cell_type": "code",
   "execution_count": 7,
   "metadata": {},
   "outputs": [
    {
     "name": "stdout",
     "output_type": "stream",
     "text": [
      "[33, 66, 65, 60.25, 59, 60, 62, 64, 70, 76, 80, 81, 80, 83, 90, 79, 61, 53, 50, 49, 53, 48, 45, 39]\n"
     ]
    }
   ],
   "source": [
    "temperatures_C[3] = Avg_temp\n",
    "print(temperatures_C)"
   ]
  },
  {
   "cell_type": "markdown",
   "metadata": {},
   "source": [
    "#### 6. Bonus: the maintenance staff is from the United States and does not understand the international metric system. Help them by converting the temperatures from Celsius to Fahrenheit.\n",
    "To know more about temperature conversion check this [link](https://en.wikipedia.org/wiki/Conversion_of_units_of_temperature).\n",
    "\n",
    "**Formula**: \n",
    "\n",
    "$F = 1.8 * C + 32$"
   ]
  },
  {
   "cell_type": "code",
   "execution_count": 11,
   "metadata": {},
   "outputs": [
    {
     "name": "stdout",
     "output_type": "stream",
     "text": [
      "[91.4, 150.8, 149.0, 140.45, 138.2, 140.0, 143.60000000000002, 147.2, 158.0, 168.8, 176.0, 177.8, 176.0, 181.4, 194.0, 174.20000000000002, 141.8, 127.4, 122.0, 120.2, 127.4, 118.4, 113.0, 102.2]\n"
     ]
    }
   ],
   "source": [
    "temperatures_F = []\n",
    "\n",
    "for x in range(0,len(temperatures_C)):\n",
    "    temperatures_F.append(1.8 * temperatures_C[x] + 32)\n",
    "    \n",
    "print(temperatures_F)"
   ]
  },
  {
   "cell_type": "markdown",
   "metadata": {},
   "source": [
    "#### 7. Make a decision!\n",
    "Now it's time to make a decision taking into account what you have seen until now. \n",
    "\n",
    "Remember that if one of the following events occurs, then the cooling system needs to be replaced for a new one to avoid damaging the processor.\n",
    "* More than 4 temperatures are greater than or equal to 70ºC.\n",
    "* Any temperature is above 80ºC.\n",
    "* The average temperature exceeds 65ºC.\n",
    "\n",
    "#### To make your decision, check if any of the three conditions above is met. You might need to use some of the variables you created in steps 1 to 6. Print a message to show if the cooling system needs to be changed or not."
   ]
  },
  {
   "cell_type": "code",
   "execution_count": 41,
   "metadata": {},
   "outputs": [
    {
     "name": "stdout",
     "output_type": "stream",
     "text": [
      "Need replace cooling system!\n",
      "Need replace cooling system!\n",
      "Need replace cooling system!\n",
      "Need replace cooling system!\n"
     ]
    }
   ],
   "source": [
    "New_Avg_temp = sum(temperatures_C)/len(temperatures_C) # With value 60.25 in 3 am\n",
    "\n",
    "count_temp_more_70 = 0\n",
    "\n",
    "for x in range(0,len(temperatures_C)):\n",
    "    if New_Avg_temp > 65:\n",
    "        print(\"Need replace cooling system!\")\n",
    "    elif temperatures_C[x] >= 70:\n",
    "        count_temp_more_70 += 1\n",
    "\n",
    "if count_temp_more_70 > 4:\n",
    "    print(\"Need replace cooling system!\")\n",
    "\n",
    "for x in range(0,len(temperatures_C)):\n",
    "    if temperatures_C[x] > 80:\n",
    "        print(\"Need replace cooling system!\")\n"
   ]
  },
  {
   "cell_type": "markdown",
   "metadata": {},
   "source": [
    "## Bonus\n",
    "\n",
    "The company has decided that the decision you made is not valid. They want you to analyze the data again but this time, the conditions that need to be met in order to change the cooling system are different.\n",
    "\n",
    "This time, if one of the following events occurs, then the cooling system needs to be replaced:\n",
    "* The temperature is greater than 70ºC during more than 4 consecutive hours.\n",
    "* Any temperature is above 80ºC.\n",
    "* The average temperature exceeds 65ºC.\n",
    "\n",
    "Follow the steps so that you can make the decision.\n",
    "\n",
    "#### 1. Create a list with the hours where the temperature is greater than 70ºC. Store it in a variable."
   ]
  },
  {
   "cell_type": "code",
   "execution_count": 20,
   "metadata": {},
   "outputs": [
    {
     "name": "stdout",
     "output_type": "stream",
     "text": [
      "[76, 80, 81, 80, 83, 90, 79]\n"
     ]
    }
   ],
   "source": [
    "temp_greater_70_bonus = []\n",
    "\n",
    "for x in range(0,len(temperatures_C)):\n",
    "    if temperatures_C[x] > 70:\n",
    "        temp_greater_70_bonus.append(temperatures_C[x])\n",
    "        \n",
    "print(temp_greater_70_bonus)"
   ]
  },
  {
   "cell_type": "markdown",
   "metadata": {},
   "source": [
    "#### 2. Check if the list you created in step 1 has more than 4 consecutive hours. "
   ]
  },
  {
   "cell_type": "code",
   "execution_count": 34,
   "metadata": {},
   "outputs": [
    {
     "name": "stdout",
     "output_type": "stream",
     "text": [
      "More than 4 consecutive hours!\n"
     ]
    }
   ],
   "source": [
    "consecutive = 0\n",
    "\n",
    "for x in range(1,len(temperatures_C)): #64, 70, 76, 80, 81, 80, 83, 90, 79, 61\n",
    "    if (temperatures_C[x] > 70) & (temperatures_C[x-1] > 70):\n",
    "        consecutive += 1\n",
    "\n",
    "if consecutive > 4:\n",
    "    print(\"More than 4 consecutive hours!\")"
   ]
  },
  {
   "cell_type": "markdown",
   "metadata": {},
   "source": [
    "#### 3. Make the decision!\n",
    "To make your decision, check if any of the three conditions is met. Print a message to show if the cooling system needs to be changed or not."
   ]
  },
  {
   "cell_type": "code",
   "execution_count": 43,
   "metadata": {},
   "outputs": [
    {
     "name": "stdout",
     "output_type": "stream",
     "text": [
      "Need replace cooling system!\n",
      "Need replace cooling system!\n",
      "Need replace cooling system!\n",
      "Need replace cooling system!\n"
     ]
    }
   ],
   "source": [
    "consecutive = 0\n",
    "\n",
    "for x in range(0,len(temperatures_C)):\n",
    "    if New_Avg_temp > 65:\n",
    "        print(\"Need replace cooling system!\")\n",
    "    elif (temperatures_C[x] > 70) & (temperatures_C[x-1] > 70):\n",
    "        consecutive += 1\n",
    "\n",
    "if consecutive > 4:\n",
    "    print(\"Need replace cooling system!\")\n",
    "\n",
    "for x in range(0,len(temperatures_C)):\n",
    "    if temperatures_C[x] > 80:\n",
    "        print(\"Need replace cooling system!\")"
   ]
  },
  {
   "cell_type": "markdown",
   "metadata": {},
   "source": [
    "#### 4. Find the average value of the temperature lists (ºC and ºF). What is the relation between both average values?"
   ]
  },
  {
   "cell_type": "code",
   "execution_count": 55,
   "metadata": {},
   "outputs": [
    {
     "name": "stdout",
     "output_type": "stream",
     "text": [
      "Average Celsius 62.760416666666664\n",
      "Average Fahrenheit:  144.96875\n",
      "Average Celsius to Fahrenheit:  144.96875\n",
      "Average Fahrenheit to Celsius:  62.760416666666664\n",
      "The relation between both average is this formula: F = 1.8 * C + 32 or C = (F - 32) / 1.8\n"
     ]
    }
   ],
   "source": [
    "print(\"Average Celsius\",New_Avg_temp)\n",
    "\n",
    "New_Avg_temp_F = sum(temperatures_F)/len(temperatures_F)\n",
    "\n",
    "print(\"Average Fahrenheit: \",New_Avg_temp_F)\n",
    "\n",
    "print(\"Average Celsius to Fahrenheit: \",New_Avg_temp * 1.8 + 32)\n",
    "print(\"Average Fahrenheit to Celsius: \",(New_Avg_temp_F - 32) / 1.8)\n",
    "print(\"The relation between both average is this formula: F = 1.8 * C + 32 or C = (F - 32) / 1.8\")"
   ]
  },
  {
   "cell_type": "markdown",
   "metadata": {},
   "source": [
    "#### 5. Find the standard deviation of the temperature lists (ºC and ºF). What is the relation between both standard deviations?"
   ]
  },
  {
   "cell_type": "code",
   "execution_count": 64,
   "metadata": {},
   "outputs": [
    {
     "name": "stdout",
     "output_type": "stream",
     "text": [
      "The Standard Deviation in C is:  14.956727286515203\n",
      "The Standard Deviation in F is:  26.922109115727363\n"
     ]
    }
   ],
   "source": [
    "import math\n",
    "\n",
    "Suma_C = []\n",
    "\n",
    "for x in temperatures_C:\n",
    "    Suma_C.append((x - New_Avg_temp)**2)\n",
    "\n",
    "Suma2 = sum(Suma_C)\n",
    "pri = 1/(len(temperatures_C)-1)\n",
    "\n",
    "Sta_Dev_C = math.sqrt(pri*Suma2)\n",
    "\n",
    "Suma_F = []\n",
    "\n",
    "for x in temperatures_F:\n",
    "    Suma_F.append((x - New_Avg_temp_F)**2)\n",
    "\n",
    "Suma2_F = sum(Suma_F)\n",
    "pri = 1/(len(temperatures_F)-1)\n",
    "\n",
    "Sta_Dev_F = math.sqrt(pri*Suma2_F)\n",
    "\n",
    "print(\"The Standard Deviation in C is: \",Sta_Dev_C)\n",
    "print(\"The Standard Deviation in F is: \",Sta_Dev_F)"
   ]
  },
  {
   "cell_type": "code",
   "execution_count": null,
   "metadata": {},
   "outputs": [],
   "source": []
  }
 ],
 "metadata": {
  "kernelspec": {
   "display_name": "Python 3",
   "language": "python",
   "name": "python3"
  },
  "language_info": {
   "codemirror_mode": {
    "name": "ipython",
    "version": 3
   },
   "file_extension": ".py",
   "mimetype": "text/x-python",
   "name": "python",
   "nbconvert_exporter": "python",
   "pygments_lexer": "ipython3",
   "version": "3.8.5"
  }
 },
 "nbformat": 4,
 "nbformat_minor": 2
}
